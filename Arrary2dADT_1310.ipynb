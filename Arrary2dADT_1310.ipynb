{
  "nbformat": 4,
  "nbformat_minor": 0,
  "metadata": {
    "colab": {
      "name": "Arrary2dADT_1310.ipynb",
      "provenance": [],
      "collapsed_sections": [],
      "authorship_tag": "ABX9TyMBMDi62iVUMHFRUgBF3L0L",
      "include_colab_link": true
    },
    "kernelspec": {
      "name": "python3",
      "display_name": "Python 3"
    },
    "language_info": {
      "name": "python"
    }
  },
  "cells": [
    {
      "cell_type": "markdown",
      "metadata": {
        "id": "view-in-github",
        "colab_type": "text"
      },
      "source": [
        "<a href=\"https://colab.research.google.com/github/PabloOsorio/Tarea6/blob/main/Arrary2dADT_1310.ipynb\" target=\"_parent\"><img src=\"https://colab.research.google.com/assets/colab-badge.svg\" alt=\"Open In Colab\"/></a>"
      ]
    },
    {
      "cell_type": "code",
      "metadata": {
        "id": "SXbThEvKj7wM"
      },
      "source": [
        "#ADT Array 2D\n",
        "#Se entran a los valores renglon-Columna(indice)\n",
        "class Array2DADT:\n",
        "  def __init__( self, ren, col):\n",
        "    self.__data = [[0 for y in range(col)] for x in range(ren)]  #Se pone []ya que son listas #el nombre .__data se puede cambiar por cualquier otro nombre \n",
        "  \n",
        "  def clear( self, dato ):\n",
        "    self.__data = [[dato for y in range(self.get_col_size())] for x in range(self.get_col_size())]\n",
        "  \n",
        "  def get_row_size(self ):\n",
        "    return len(self.__data[0] )\n",
        "  \n",
        "  def get_col_size(self ):\n",
        "    return len(self.__data[0])\n",
        "  \n",
        "  def set_item(self, ren, col, dato):\n",
        "    self.__data[ren][col]=dato\n",
        "  \n",
        "  def get_item(self, ren, col):\n",
        "    return self.__data[ren][col]\n",
        "  \n",
        "  def to_String(self):\n",
        "    cadena = \"\"\n",
        "    for renglon in self.__data:\n",
        "      cadena = cadena + \"|\"\n",
        "      for dato in renglon:\n",
        "        cadena = cadena + str(dato) + \" | \"\n",
        "      cadena = cadena + \"\\n\"\n",
        "    return cadena\n",
        "\n",
        "\n"
      ],
      "execution_count": 1,
      "outputs": []
    },
    {
      "cell_type": "code",
      "metadata": {
        "colab": {
          "base_uri": "https://localhost:8080/",
          "height": 426
        },
        "id": "vz6l_XnEofU8",
        "outputId": "6aca15a2-ac1e-410d-89a8-00fb5ee423d1"
      },
      "source": [
        "a2d=Array2DADT(3,6)\n",
        "print(f\"Ren: {a2d.get_row_size()}\")\n",
        "print(f\"Col: {a2d.get_col_size()}\")\n",
        "print(a2d.to_String())\n",
        "print(\"\")\n",
        "a2d.clear(\"M\")\n",
        "print(a2d.to_String())\n",
        "print(\".-..--.-..-.-.-..-.-.\")\n",
        "\n",
        "a2d.set_item(2,3,'P')\n",
        "print(a2d.to_String())\n",
        "print(\".-..--.-..-.-.-..-.-.\")\n",
        "a2d.get_item(2,3,)\n"
      ],
      "execution_count": 2,
      "outputs": [
        {
          "output_type": "stream",
          "name": "stdout",
          "text": [
            "Ren: 6\n",
            "Col: 6\n",
            "|0 | 0 | 0 | 0 | 0 | 0 | \n",
            "|0 | 0 | 0 | 0 | 0 | 0 | \n",
            "|0 | 0 | 0 | 0 | 0 | 0 | \n",
            "\n",
            "\n",
            "|M | M | M | M | M | M | \n",
            "|M | M | M | M | M | M | \n",
            "|M | M | M | M | M | M | \n",
            "|M | M | M | M | M | M | \n",
            "|M | M | M | M | M | M | \n",
            "|M | M | M | M | M | M | \n",
            "\n",
            ".-..--.-..-.-.-..-.-.\n",
            "|M | M | M | M | M | M | \n",
            "|M | M | M | M | M | M | \n",
            "|M | M | M | P | M | M | \n",
            "|M | M | M | M | M | M | \n",
            "|M | M | M | M | M | M | \n",
            "|M | M | M | M | M | M | \n",
            "\n",
            ".-..--.-..-.-.-..-.-.\n"
          ]
        },
        {
          "output_type": "execute_result",
          "data": {
            "application/vnd.google.colaboratory.intrinsic+json": {
              "type": "string"
            },
            "text/plain": [
              "'P'"
            ]
          },
          "metadata": {},
          "execution_count": 2
        }
      ]
    },
    {
      "cell_type": "code",
      "metadata": {
        "id": "ZKD49pbg4ERz"
      },
      "source": [
        "#Los datos iniciales son: Tamaño de poblacion(renblones,columnas)--Poblacion inicial---Numero de generaciones a simular -->Deben ser proporcionada por un archivo de entrada separado por comas \n",
        "\"\"\"\n",
        "5\n",
        "5\n",
        "0,0,0,0\n",
        "0,1,1,0\n",
        "0,1,1,0\n",
        "0,0,0,0\n",
        "10\n",
        "\n",
        "\"\"\"\n",
        "class JuegoDeLavida:\n",
        "  def __init__(self, ruta_archivo):\n",
        "    self.rens = None\n",
        "    self.cols = None\n",
        "    self.tablero = None\n",
        "    self.generaciones = None\n",
        "    self.read_game_data( ruta_archivo )\n",
        "\n",
        "  def read_game_data(self,archivo):\n",
        "    archivo = open( archivo , 'rt')\n",
        "    lineas = archivo.readlines()\n",
        "    for index in range(len(lineas)):\n",
        "      lineas[index] = lineas[index].strip()\n",
        "    \n",
        "    self.rens = int( lineas[0] )\n",
        "    self.cols = int( lineas[1] )\n",
        "    self.tablero = Array2DADT(self.rens, self.cols)\n",
        "    r = 0\n",
        "    c = 0\n",
        "    for index in range( 2, 2 + self.rens, 1):\n",
        "       c = 0\n",
        "       for dato in lineas[index].split(','): \n",
        "         self.tablero.set_item( r , c , int(dato) )\n",
        "         c += 1\n",
        "       r += 1\n",
        "    self.generaciones = int(lineas[len (lineas) -1 ])\n",
        "    print(\"Generaciones: \" , self.generaciones)\n",
        "\n",
        "    print(self.tablero.to_String())\n",
        "  def get_vecinos( self , r , c):\n",
        "        vecinos = []\n",
        "        for ren in range( r-1 , r+2 , 1 ):\n",
        "            for col in range(c-1 , c+2 , 1):\n",
        "                if ren < 0 or ren >= self.tablero.get_row_size() or col < 0 or col >= self.tablero.get_col_size() or (ren==r and col==c):\n",
        "                    pass\n",
        "                else:\n",
        "                    vecinos.append((ren,col))\n",
        "        return vecinos\n",
        "\n",
        "  def get_vecinos_vivos(self , r , c):\n",
        "    vecinos = self.get_vecinos(r , c )\n",
        "    vivos = 0\n",
        "    for par in vecinos:\n",
        "      if self.tablero.get_item(par[0] , par[1]) == 1:\n",
        "        vivos += 1\n",
        "    return vivos\n",
        "\n",
        "  def calcular_siguiente(self):\n",
        "    nueva_gen = Array2DADT(self.rens , self.cols )\n",
        "    #Las reglas que daran paso a la nueva generacion (4 Reglas)\n",
        "    for ren in range (self.rens):\n",
        "      for col in range(self.cols):\n",
        "        celulas = 0\n",
        "        if \n",
        "        pass\n",
        "\n",
        "    self.tablero = nueva_gen"
      ],
      "execution_count": 8,
      "outputs": []
    },
    {
      "cell_type": "code",
      "metadata": {
        "colab": {
          "base_uri": "https://localhost:8080/"
        },
        "id": "_kAB_2OcUfDU",
        "outputId": "8603e0a5-aa6f-4777-de4c-2920afc408cf"
      },
      "source": [
        "juego = JuegoDeLavida(\"G1.txt\")\n",
        "juego.get_vecinos_vivos(1, 2)"
      ],
      "execution_count": 10,
      "outputs": [
        {
          "output_type": "stream",
          "name": "stdout",
          "text": [
            "Generaciones:  10\n",
            "|0 | 0 | 0 | 0 | 0 | \n",
            "|0 | 1 | 1 | 0 | 0 | \n",
            "|0 | 1 | 1 | 0 | 0 | \n",
            "|0 | 0 | 0 | 0 | 0 | \n",
            "|0 | 0 | 0 | 0 | 0 | \n",
            "\n"
          ]
        },
        {
          "output_type": "execute_result",
          "data": {
            "text/plain": [
              "3"
            ]
          },
          "metadata": {},
          "execution_count": 10
        }
      ]
    }
  ]
}